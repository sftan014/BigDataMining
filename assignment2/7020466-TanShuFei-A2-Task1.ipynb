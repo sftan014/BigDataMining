{
 "cells": [
  {
   "cell_type": "markdown",
   "id": "11095c67",
   "metadata": {},
   "source": [
    "#### TAN SHU FEI 7020466"
   ]
  },
  {
   "cell_type": "markdown",
   "id": "27907aec",
   "metadata": {},
   "source": [
    "### CSCI 316 - A2 Individual Task 1- 23/02/2022\n",
    "- Implement a Naïve Bayesian classifier to predict the age of abalone in Python from scratch.\n",
    "\n",
    "## 1. Import Libaries"
   ]
  },
  {
   "cell_type": "code",
   "execution_count": 2,
   "id": "ca19fbdc",
   "metadata": {},
   "outputs": [],
   "source": [
    "# Import libraries\n",
    "import numpy as np\n",
    "import pandas as pd\n",
    "import matplotlib.pyplot as plt\n",
    "import seaborn as sns\n",
    "import scipy.stats as stats\n",
    "sns.set(style=\"whitegrid\")"
   ]
  },
  {
   "cell_type": "markdown",
   "id": "4394bba7",
   "metadata": {},
   "source": [
    "## 2. Import Abalone Dataset"
   ]
  },
  {
   "cell_type": "code",
   "execution_count": 3,
   "id": "7688f86f",
   "metadata": {},
   "outputs": [
    {
     "data": {
      "text/html": [
       "<div>\n",
       "<style scoped>\n",
       "    .dataframe tbody tr th:only-of-type {\n",
       "        vertical-align: middle;\n",
       "    }\n",
       "\n",
       "    .dataframe tbody tr th {\n",
       "        vertical-align: top;\n",
       "    }\n",
       "\n",
       "    .dataframe thead th {\n",
       "        text-align: right;\n",
       "    }\n",
       "</style>\n",
       "<table border=\"1\" class=\"dataframe\">\n",
       "  <thead>\n",
       "    <tr style=\"text-align: right;\">\n",
       "      <th></th>\n",
       "      <th>Sex</th>\n",
       "      <th>Length</th>\n",
       "      <th>Diameter</th>\n",
       "      <th>Height</th>\n",
       "      <th>Whole weight</th>\n",
       "      <th>Shucked weight</th>\n",
       "      <th>Vescera weight</th>\n",
       "      <th>Shell weight</th>\n",
       "      <th>Rings</th>\n",
       "    </tr>\n",
       "  </thead>\n",
       "  <tbody>\n",
       "    <tr>\n",
       "      <th>0</th>\n",
       "      <td>M</td>\n",
       "      <td>0.455</td>\n",
       "      <td>0.365</td>\n",
       "      <td>0.095</td>\n",
       "      <td>0.5140</td>\n",
       "      <td>0.2245</td>\n",
       "      <td>0.1010</td>\n",
       "      <td>0.150</td>\n",
       "      <td>15</td>\n",
       "    </tr>\n",
       "    <tr>\n",
       "      <th>1</th>\n",
       "      <td>M</td>\n",
       "      <td>0.350</td>\n",
       "      <td>0.265</td>\n",
       "      <td>0.090</td>\n",
       "      <td>0.2255</td>\n",
       "      <td>0.0995</td>\n",
       "      <td>0.0485</td>\n",
       "      <td>0.070</td>\n",
       "      <td>7</td>\n",
       "    </tr>\n",
       "    <tr>\n",
       "      <th>2</th>\n",
       "      <td>F</td>\n",
       "      <td>0.530</td>\n",
       "      <td>0.420</td>\n",
       "      <td>0.135</td>\n",
       "      <td>0.6770</td>\n",
       "      <td>0.2565</td>\n",
       "      <td>0.1415</td>\n",
       "      <td>0.210</td>\n",
       "      <td>9</td>\n",
       "    </tr>\n",
       "    <tr>\n",
       "      <th>3</th>\n",
       "      <td>M</td>\n",
       "      <td>0.440</td>\n",
       "      <td>0.365</td>\n",
       "      <td>0.125</td>\n",
       "      <td>0.5160</td>\n",
       "      <td>0.2155</td>\n",
       "      <td>0.1140</td>\n",
       "      <td>0.155</td>\n",
       "      <td>10</td>\n",
       "    </tr>\n",
       "    <tr>\n",
       "      <th>4</th>\n",
       "      <td>I</td>\n",
       "      <td>0.330</td>\n",
       "      <td>0.255</td>\n",
       "      <td>0.080</td>\n",
       "      <td>0.2050</td>\n",
       "      <td>0.0895</td>\n",
       "      <td>0.0395</td>\n",
       "      <td>0.055</td>\n",
       "      <td>7</td>\n",
       "    </tr>\n",
       "  </tbody>\n",
       "</table>\n",
       "</div>"
      ],
      "text/plain": [
       "  Sex  Length  Diameter  Height  Whole weight  Shucked weight  Vescera weight  \\\n",
       "0   M   0.455     0.365   0.095        0.5140          0.2245          0.1010   \n",
       "1   M   0.350     0.265   0.090        0.2255          0.0995          0.0485   \n",
       "2   F   0.530     0.420   0.135        0.6770          0.2565          0.1415   \n",
       "3   M   0.440     0.365   0.125        0.5160          0.2155          0.1140   \n",
       "4   I   0.330     0.255   0.080        0.2050          0.0895          0.0395   \n",
       "\n",
       "   Shell weight  Rings  \n",
       "0         0.150     15  \n",
       "1         0.070      7  \n",
       "2         0.210      9  \n",
       "3         0.155     10  \n",
       "4         0.055      7  "
      ]
     },
     "execution_count": 3,
     "metadata": {},
     "output_type": "execute_result"
    }
   ],
   "source": [
    "# Column name of each header\n",
    "colsName = ['Sex', 'Length', 'Diameter', 'Height', 'Whole weight', \n",
    "            'Shucked weight', 'Vescera weight', 'Shell weight', \n",
    "            'Rings']\n",
    "\n",
    "# Read in data from .data file\n",
    "adf = pd.read_csv('./abalone.data',sep=',',names=colsName)\n",
    "\n",
    "# Display data\n",
    "adf.head()"
   ]
  },
  {
   "cell_type": "code",
   "execution_count": 4,
   "id": "6e52a5b8",
   "metadata": {},
   "outputs": [
    {
     "name": "stdout",
     "output_type": "stream",
     "text": [
      "<class 'pandas.core.frame.DataFrame'>\n",
      "RangeIndex: 4177 entries, 0 to 4176\n",
      "Data columns (total 9 columns):\n",
      " #   Column          Non-Null Count  Dtype  \n",
      "---  ------          --------------  -----  \n",
      " 0   Sex             4177 non-null   object \n",
      " 1   Length          4177 non-null   float64\n",
      " 2   Diameter        4177 non-null   float64\n",
      " 3   Height          4177 non-null   float64\n",
      " 4   Whole weight    4177 non-null   float64\n",
      " 5   Shucked weight  4177 non-null   float64\n",
      " 6   Vescera weight  4177 non-null   float64\n",
      " 7   Shell weight    4177 non-null   float64\n",
      " 8   Rings           4177 non-null   int64  \n",
      "dtypes: float64(7), int64(1), object(1)\n",
      "memory usage: 293.8+ KB\n"
     ]
    }
   ],
   "source": [
    "adf.info()"
   ]
  },
  {
   "cell_type": "markdown",
   "id": "87ad6fcf",
   "metadata": {},
   "source": [
    "## 3. Create a new column called 'Age'"
   ]
  },
  {
   "cell_type": "markdown",
   "id": "1c67af8e",
   "metadata": {},
   "source": [
    "Judging an abalone's age using the Rings column:\n",
    "- less than 6 rings: < 7.5 years old = 'young'\n",
    "- 6 to 13 rings: 7.5 to 14.5 years old = 'adult'\n",
    "- more than 13 rings: > 14.5 years old = 'old'\n"
   ]
  },
  {
   "cell_type": "code",
   "execution_count": 6,
   "id": "49ff60f8",
   "metadata": {},
   "outputs": [
    {
     "data": {
      "text/html": [
       "<div>\n",
       "<style scoped>\n",
       "    .dataframe tbody tr th:only-of-type {\n",
       "        vertical-align: middle;\n",
       "    }\n",
       "\n",
       "    .dataframe tbody tr th {\n",
       "        vertical-align: top;\n",
       "    }\n",
       "\n",
       "    .dataframe thead th {\n",
       "        text-align: right;\n",
       "    }\n",
       "</style>\n",
       "<table border=\"1\" class=\"dataframe\">\n",
       "  <thead>\n",
       "    <tr style=\"text-align: right;\">\n",
       "      <th></th>\n",
       "      <th>Sex</th>\n",
       "      <th>Length</th>\n",
       "      <th>Diameter</th>\n",
       "      <th>Height</th>\n",
       "      <th>Whole weight</th>\n",
       "      <th>Shucked weight</th>\n",
       "      <th>Vescera weight</th>\n",
       "      <th>Shell weight</th>\n",
       "      <th>Rings</th>\n",
       "      <th>Age</th>\n",
       "    </tr>\n",
       "  </thead>\n",
       "  <tbody>\n",
       "    <tr>\n",
       "      <th>0</th>\n",
       "      <td>M</td>\n",
       "      <td>0.455</td>\n",
       "      <td>0.365</td>\n",
       "      <td>0.095</td>\n",
       "      <td>0.5140</td>\n",
       "      <td>0.2245</td>\n",
       "      <td>0.1010</td>\n",
       "      <td>0.150</td>\n",
       "      <td>15</td>\n",
       "      <td>Old</td>\n",
       "    </tr>\n",
       "    <tr>\n",
       "      <th>1</th>\n",
       "      <td>M</td>\n",
       "      <td>0.350</td>\n",
       "      <td>0.265</td>\n",
       "      <td>0.090</td>\n",
       "      <td>0.2255</td>\n",
       "      <td>0.0995</td>\n",
       "      <td>0.0485</td>\n",
       "      <td>0.070</td>\n",
       "      <td>7</td>\n",
       "      <td>Adult</td>\n",
       "    </tr>\n",
       "    <tr>\n",
       "      <th>2</th>\n",
       "      <td>F</td>\n",
       "      <td>0.530</td>\n",
       "      <td>0.420</td>\n",
       "      <td>0.135</td>\n",
       "      <td>0.6770</td>\n",
       "      <td>0.2565</td>\n",
       "      <td>0.1415</td>\n",
       "      <td>0.210</td>\n",
       "      <td>9</td>\n",
       "      <td>Adult</td>\n",
       "    </tr>\n",
       "    <tr>\n",
       "      <th>3</th>\n",
       "      <td>M</td>\n",
       "      <td>0.440</td>\n",
       "      <td>0.365</td>\n",
       "      <td>0.125</td>\n",
       "      <td>0.5160</td>\n",
       "      <td>0.2155</td>\n",
       "      <td>0.1140</td>\n",
       "      <td>0.155</td>\n",
       "      <td>10</td>\n",
       "      <td>Adult</td>\n",
       "    </tr>\n",
       "    <tr>\n",
       "      <th>4</th>\n",
       "      <td>I</td>\n",
       "      <td>0.330</td>\n",
       "      <td>0.255</td>\n",
       "      <td>0.080</td>\n",
       "      <td>0.2050</td>\n",
       "      <td>0.0895</td>\n",
       "      <td>0.0395</td>\n",
       "      <td>0.055</td>\n",
       "      <td>7</td>\n",
       "      <td>Adult</td>\n",
       "    </tr>\n",
       "  </tbody>\n",
       "</table>\n",
       "</div>"
      ],
      "text/plain": [
       "  Sex  Length  Diameter  Height  Whole weight  Shucked weight  Vescera weight  \\\n",
       "0   M   0.455     0.365   0.095        0.5140          0.2245          0.1010   \n",
       "1   M   0.350     0.265   0.090        0.2255          0.0995          0.0485   \n",
       "2   F   0.530     0.420   0.135        0.6770          0.2565          0.1415   \n",
       "3   M   0.440     0.365   0.125        0.5160          0.2155          0.1140   \n",
       "4   I   0.330     0.255   0.080        0.2050          0.0895          0.0395   \n",
       "\n",
       "   Shell weight  Rings    Age  \n",
       "0         0.150     15    Old  \n",
       "1         0.070      7  Adult  \n",
       "2         0.210      9  Adult  \n",
       "3         0.155     10  Adult  \n",
       "4         0.055      7  Adult  "
      ]
     },
     "execution_count": 6,
     "metadata": {},
     "output_type": "execute_result"
    }
   ],
   "source": [
    "# create a list of conditions\n",
    "conditions = [\n",
    "    (adf['Rings'] >= 1) & (adf['Rings'] <= 5), \n",
    "    (adf['Rings'] >= 6) & (adf['Rings'] <= 13),\n",
    "    (adf['Rings'] >= 14) & (adf['Rings'] <= 30)]\n",
    "\n",
    "# create a list of the values we want to assign for each condition\n",
    "values = ['Young', 'Adult', 'Old']\n",
    "\n",
    "# create column name and select condition + values\n",
    "adf['Age'] = np.select(conditions, values)\n",
    "    \n",
    "# Display data\n",
    "adf.head() # Age column added successfully"
   ]
  },
  {
   "cell_type": "markdown",
   "id": "1fbe2bd7",
   "metadata": {},
   "source": [
    "- Age column with 'Young' 'Adult & 'Old' successfully added to database"
   ]
  },
  {
   "cell_type": "markdown",
   "id": "66a29067",
   "metadata": {},
   "source": [
    "### Data in 'Age'"
   ]
  },
  {
   "cell_type": "code",
   "execution_count": 7,
   "id": "172d5179",
   "metadata": {},
   "outputs": [
    {
     "name": "stdout",
     "output_type": "stream",
     "text": [
      "Age\n",
      "Adult    3498\n",
      "Old       490\n",
      "Young     189\n",
      "dtype: int64\n"
     ]
    }
   ],
   "source": [
    "# Show the total number of each cover types in this dataframe\n",
    "print(adf.groupby('Age').size())"
   ]
  },
  {
   "cell_type": "markdown",
   "id": "faa3ebc0",
   "metadata": {},
   "source": [
    "### Visualize 'Age'"
   ]
  },
  {
   "cell_type": "code",
   "execution_count": 8,
   "id": "5a4b70f9",
   "metadata": {},
   "outputs": [
    {
     "data": {
      "image/png": "[encoded data removed]",
      "text/plain": [
       "<Figure size 432x288 with 1 Axes>"
      ]
     },
     "metadata": {},
     "output_type": "display_data"
    }
   ],
   "source": [
    "# visualize the count of each 'Cover_Type' in this dataframe\n",
    "plt.title('Count of each class in this dataframe')\n",
    "sns.set_style('whitegrid')\n",
    "sns.countplot(x=adf['Age'], order= ['Young','Adult','M'])\n",
    "\n",
    "plt.show()"
   ]
  },
  {
   "cell_type": "markdown",
   "id": "06691104",
   "metadata": {},
   "source": [
    "- There's significantly more Adult abalones than the rest of the age"
   ]
  },
  {
   "cell_type": "markdown",
   "id": "26b52b46",
   "metadata": {},
   "source": [
    "___"
   ]
  },
  {
   "cell_type": "markdown",
   "id": "56a164f3",
   "metadata": {},
   "source": [
    "## 4. Encode Column 'Age' To dtype int64"
   ]
  },
  {
   "cell_type": "code",
   "execution_count": 9,
   "id": "222b7b39",
   "metadata": {},
   "outputs": [
    {
     "data": {
      "text/plain": [
       "Sex\n",
       "F    1307\n",
       "I    1342\n",
       "M    1528\n",
       "dtype: int64"
      ]
     },
     "execution_count": 9,
     "metadata": {},
     "output_type": "execute_result"
    }
   ],
   "source": [
    "# show the total number of each cover types in this dataframe\n",
    "adf.groupby('Sex').size()"
   ]
  },
  {
   "cell_type": "code",
   "execution_count": 10,
   "id": "39ed29bc",
   "metadata": {},
   "outputs": [
    {
     "data": {
      "image/png": "[encoded data removed]",
      "text/plain": [
       "<Figure size 432x288 with 1 Axes>"
      ]
     },
     "metadata": {},
     "output_type": "display_data"
    }
   ],
   "source": [
    "# visualize the count of each 'Cover_Type' in this dataframe\n",
    "plt.title('Count of each class in this dataframe')\n",
    "sns.set_style('whitegrid')\n",
    "sns.countplot(x=adf['Sex'], order= ['I','F','M'])\n",
    "\n",
    "plt.show()"
   ]
  },
  {
   "cell_type": "markdown",
   "id": "613486ab",
   "metadata": {},
   "source": [
    "- Amount of Males abalones is the highest at 1528\n",
    "- Female & Infant abalones are almost the same amount"
   ]
  },
  {
   "cell_type": "markdown",
   "id": "9bcc232e",
   "metadata": {},
   "source": [
    "- Encode Sex column to int64 for easier processing"
   ]
  },
  {
   "cell_type": "code",
   "execution_count": 11,
   "id": "7a8f4c36",
   "metadata": {},
   "outputs": [
    {
     "data": {
      "text/html": [
       "<div>\n",
       "<style scoped>\n",
       "    .dataframe tbody tr th:only-of-type {\n",
       "        vertical-align: middle;\n",
       "    }\n",
       "\n",
       "    .dataframe tbody tr th {\n",
       "        vertical-align: top;\n",
       "    }\n",
       "\n",
       "    .dataframe thead th {\n",
       "        text-align: right;\n",
       "    }\n",
       "</style>\n",
       "<table border=\"1\" class=\"dataframe\">\n",
       "  <thead>\n",
       "    <tr style=\"text-align: right;\">\n",
       "      <th></th>\n",
       "      <th>Sex</th>\n",
       "      <th>Length</th>\n",
       "      <th>Diameter</th>\n",
       "      <th>Height</th>\n",
       "      <th>Whole weight</th>\n",
       "      <th>Shucked weight</th>\n",
       "      <th>Vescera weight</th>\n",
       "      <th>Shell weight</th>\n",
       "      <th>Rings</th>\n",
       "      <th>Age</th>\n",
       "    </tr>\n",
       "  </thead>\n",
       "  <tbody>\n",
       "    <tr>\n",
       "      <th>0</th>\n",
       "      <td>3</td>\n",
       "      <td>0.455</td>\n",
       "      <td>0.365</td>\n",
       "      <td>0.095</td>\n",
       "      <td>0.5140</td>\n",
       "      <td>0.2245</td>\n",
       "      <td>0.1010</td>\n",
       "      <td>0.1500</td>\n",
       "      <td>15</td>\n",
       "      <td>Old</td>\n",
       "    </tr>\n",
       "    <tr>\n",
       "      <th>1</th>\n",
       "      <td>3</td>\n",
       "      <td>0.350</td>\n",
       "      <td>0.265</td>\n",
       "      <td>0.090</td>\n",
       "      <td>0.2255</td>\n",
       "      <td>0.0995</td>\n",
       "      <td>0.0485</td>\n",
       "      <td>0.0700</td>\n",
       "      <td>7</td>\n",
       "      <td>Adult</td>\n",
       "    </tr>\n",
       "    <tr>\n",
       "      <th>2</th>\n",
       "      <td>2</td>\n",
       "      <td>0.530</td>\n",
       "      <td>0.420</td>\n",
       "      <td>0.135</td>\n",
       "      <td>0.6770</td>\n",
       "      <td>0.2565</td>\n",
       "      <td>0.1415</td>\n",
       "      <td>0.2100</td>\n",
       "      <td>9</td>\n",
       "      <td>Adult</td>\n",
       "    </tr>\n",
       "    <tr>\n",
       "      <th>3</th>\n",
       "      <td>3</td>\n",
       "      <td>0.440</td>\n",
       "      <td>0.365</td>\n",
       "      <td>0.125</td>\n",
       "      <td>0.5160</td>\n",
       "      <td>0.2155</td>\n",
       "      <td>0.1140</td>\n",
       "      <td>0.1550</td>\n",
       "      <td>10</td>\n",
       "      <td>Adult</td>\n",
       "    </tr>\n",
       "    <tr>\n",
       "      <th>4</th>\n",
       "      <td>1</td>\n",
       "      <td>0.330</td>\n",
       "      <td>0.255</td>\n",
       "      <td>0.080</td>\n",
       "      <td>0.2050</td>\n",
       "      <td>0.0895</td>\n",
       "      <td>0.0395</td>\n",
       "      <td>0.0550</td>\n",
       "      <td>7</td>\n",
       "      <td>Adult</td>\n",
       "    </tr>\n",
       "    <tr>\n",
       "      <th>...</th>\n",
       "      <td>...</td>\n",
       "      <td>...</td>\n",
       "      <td>...</td>\n",
       "      <td>...</td>\n",
       "      <td>...</td>\n",
       "      <td>...</td>\n",
       "      <td>...</td>\n",
       "      <td>...</td>\n",
       "      <td>...</td>\n",
       "      <td>...</td>\n",
       "    </tr>\n",
       "    <tr>\n",
       "      <th>4172</th>\n",
       "      <td>2</td>\n",
       "      <td>0.565</td>\n",
       "      <td>0.450</td>\n",
       "      <td>0.165</td>\n",
       "      <td>0.8870</td>\n",
       "      <td>0.3700</td>\n",
       "      <td>0.2390</td>\n",
       "      <td>0.2490</td>\n",
       "      <td>11</td>\n",
       "      <td>Adult</td>\n",
       "    </tr>\n",
       "    <tr>\n",
       "      <th>4173</th>\n",
       "      <td>3</td>\n",
       "      <td>0.590</td>\n",
       "      <td>0.440</td>\n",
       "      <td>0.135</td>\n",
       "      <td>0.9660</td>\n",
       "      <td>0.4390</td>\n",
       "      <td>0.2145</td>\n",
       "      <td>0.2605</td>\n",
       "      <td>10</td>\n",
       "      <td>Adult</td>\n",
       "    </tr>\n",
       "    <tr>\n",
       "      <th>4174</th>\n",
       "      <td>3</td>\n",
       "      <td>0.600</td>\n",
       "      <td>0.475</td>\n",
       "      <td>0.205</td>\n",
       "      <td>1.1760</td>\n",
       "      <td>0.5255</td>\n",
       "      <td>0.2875</td>\n",
       "      <td>0.3080</td>\n",
       "      <td>9</td>\n",
       "      <td>Adult</td>\n",
       "    </tr>\n",
       "    <tr>\n",
       "      <th>4175</th>\n",
       "      <td>2</td>\n",
       "      <td>0.625</td>\n",
       "      <td>0.485</td>\n",
       "      <td>0.150</td>\n",
       "      <td>1.0945</td>\n",
       "      <td>0.5310</td>\n",
       "      <td>0.2610</td>\n",
       "      <td>0.2960</td>\n",
       "      <td>10</td>\n",
       "      <td>Adult</td>\n",
       "    </tr>\n",
       "    <tr>\n",
       "      <th>4176</th>\n",
       "      <td>3</td>\n",
       "      <td>0.710</td>\n",
       "      <td>0.555</td>\n",
       "      <td>0.195</td>\n",
       "      <td>1.9485</td>\n",
       "      <td>0.9455</td>\n",
       "      <td>0.3765</td>\n",
       "      <td>0.4950</td>\n",
       "      <td>12</td>\n",
       "      <td>Adult</td>\n",
       "    </tr>\n",
       "  </tbody>\n",
       "</table>\n",
       "<p>4177 rows × 10 columns</p>\n",
       "</div>"
      ],
      "text/plain": [
       "      Sex  Length  Diameter  Height  Whole weight  Shucked weight  \\\n",
       "0       3   0.455     0.365   0.095        0.5140          0.2245   \n",
       "1       3   0.350     0.265   0.090        0.2255          0.0995   \n",
       "2       2   0.530     0.420   0.135        0.6770          0.2565   \n",
       "3       3   0.440     0.365   0.125        0.5160          0.2155   \n",
       "4       1   0.330     0.255   0.080        0.2050          0.0895   \n",
       "...   ...     ...       ...     ...           ...             ...   \n",
       "4172    2   0.565     0.450   0.165        0.8870          0.3700   \n",
       "4173    3   0.590     0.440   0.135        0.9660          0.4390   \n",
       "4174    3   0.600     0.475   0.205        1.1760          0.5255   \n",
       "4175    2   0.625     0.485   0.150        1.0945          0.5310   \n",
       "4176    3   0.710     0.555   0.195        1.9485          0.9455   \n",
       "\n",
       "      Vescera weight  Shell weight  Rings    Age  \n",
       "0             0.1010        0.1500     15    Old  \n",
       "1             0.0485        0.0700      7  Adult  \n",
       "2             0.1415        0.2100      9  Adult  \n",
       "3             0.1140        0.1550     10  Adult  \n",
       "4             0.0395        0.0550      7  Adult  \n",
       "...              ...           ...    ...    ...  \n",
       "4172          0.2390        0.2490     11  Adult  \n",
       "4173          0.2145        0.2605     10  Adult  \n",
       "4174          0.2875        0.3080      9  Adult  \n",
       "4175          0.2610        0.2960     10  Adult  \n",
       "4176          0.3765        0.4950     12  Adult  \n",
       "\n",
       "[4177 rows x 10 columns]"
      ]
     },
     "execution_count": 11,
     "metadata": {},
     "output_type": "execute_result"
    }
   ],
   "source": [
    "# Encode Sex column\n",
    "encode_data = {\"Sex\":{\"I\":1, \"F\":2, \"M\":3}}\n",
    "adf = adf.replace(encode_data)\n",
    "adf"
   ]
  },
  {
   "cell_type": "code",
   "execution_count": 12,
   "id": "507c1b2c",
   "metadata": {},
   "outputs": [
    {
     "name": "stdout",
     "output_type": "stream",
     "text": [
      "<class 'pandas.core.frame.DataFrame'>\n",
      "RangeIndex: 4177 entries, 0 to 4176\n",
      "Data columns (total 10 columns):\n",
      " #   Column          Non-Null Count  Dtype  \n",
      "---  ------          --------------  -----  \n",
      " 0   Sex             4177 non-null   int64  \n",
      " 1   Length          4177 non-null   float64\n",
      " 2   Diameter        4177 non-null   float64\n",
      " 3   Height          4177 non-null   float64\n",
      " 4   Whole weight    4177 non-null   float64\n",
      " 5   Shucked weight  4177 non-null   float64\n",
      " 6   Vescera weight  4177 non-null   float64\n",
      " 7   Shell weight    4177 non-null   float64\n",
      " 8   Rings           4177 non-null   int64  \n",
      " 9   Age             4177 non-null   object \n",
      "dtypes: float64(7), int64(2), object(1)\n",
      "memory usage: 326.5+ KB\n"
     ]
    }
   ],
   "source": [
    "adf.info()"
   ]
  },
  {
   "cell_type": "markdown",
   "id": "44ecd9d9",
   "metadata": {},
   "source": [
    "___"
   ]
  },
  {
   "cell_type": "markdown",
   "id": "b14e74cb",
   "metadata": {},
   "source": [
    "## 5. Check for NULL, empty or zero values in dataset"
   ]
  },
  {
   "cell_type": "markdown",
   "id": "4ed29077",
   "metadata": {},
   "source": [
    "### Number of NULL in each dataset"
   ]
  },
  {
   "cell_type": "code",
   "execution_count": 9,
   "id": "8a81bf09",
   "metadata": {},
   "outputs": [
    {
     "name": "stdout",
     "output_type": "stream",
     "text": [
      "Missing values for each column:\n",
      "\n",
      "Sex               0\n",
      "Length            0\n",
      "Diameter          0\n",
      "Height            0\n",
      "Whole weight      0\n",
      "Shucked weight    0\n",
      "Vescera weight    0\n",
      "Shell weight      0\n",
      "Rings             0\n",
      "Age               0\n",
      "dtype: int64\n"
     ]
    }
   ],
   "source": [
    "# Check each columns for how many null data\n",
    "print(\"Missing values for each column:\\n\")\n",
    "print(adf.isnull().sum())"
   ]
  },
  {
   "cell_type": "markdown",
   "id": "218ef511",
   "metadata": {},
   "source": [
    "### Number of non-zeros in each column"
   ]
  },
  {
   "cell_type": "code",
   "execution_count": 10,
   "id": "b19cf1d3",
   "metadata": {},
   "outputs": [
    {
     "data": {
      "text/plain": [
       "Sex               4177\n",
       "Length            4177\n",
       "Diameter          4177\n",
       "Height            4175\n",
       "Whole weight      4177\n",
       "Shucked weight    4177\n",
       "Vescera weight    4177\n",
       "Shell weight      4177\n",
       "Rings             4177\n",
       "Age               4177\n",
       "dtype: int64"
      ]
     },
     "execution_count": 10,
     "metadata": {},
     "output_type": "execute_result"
    }
   ],
   "source": [
    "adf.astype(bool).sum(axis=0)"
   ]
  },
  {
   "cell_type": "markdown",
   "id": "2c28c4c2",
   "metadata": {},
   "source": [
    "- Column 'Height' contains 4175 / 4177 value.\n",
    "- Hence there's 2 values that is zeros in the dataset."
   ]
  },
  {
   "cell_type": "markdown",
   "id": "0f3eb434",
   "metadata": {},
   "source": [
    "### Replace zeros values in 'Height' cols to mean"
   ]
  },
  {
   "cell_type": "code",
   "execution_count": 11,
   "id": "4e2dd77d",
   "metadata": {},
   "outputs": [],
   "source": [
    "adf['Height'] = adf['Height'].replace(0, adf['Height'].mean())"
   ]
  },
  {
   "cell_type": "markdown",
   "id": "982c0207",
   "metadata": {},
   "source": [
    "### All data have equal numer of dataset now"
   ]
  },
  {
   "cell_type": "code",
   "execution_count": 12,
   "id": "9da9fbf5",
   "metadata": {},
   "outputs": [
    {
     "data": {
      "text/plain": [
       "Sex               4177\n",
       "Length            4177\n",
       "Diameter          4177\n",
       "Height            4177\n",
       "Whole weight      4177\n",
       "Shucked weight    4177\n",
       "Vescera weight    4177\n",
       "Shell weight      4177\n",
       "Rings             4177\n",
       "Age               4177\n",
       "dtype: int64"
      ]
     },
     "execution_count": 12,
     "metadata": {},
     "output_type": "execute_result"
    }
   ],
   "source": [
    "# Check again.\n",
    "# Height is now int 4177\n",
    "adf.astype(bool).sum(axis=0)"
   ]
  },
  {
   "cell_type": "code",
   "execution_count": 13,
   "id": "2716fd19",
   "metadata": {},
   "outputs": [
    {
     "data": {
      "text/html": [
       "<div>\n",
       "<style scoped>\n",
       "    .dataframe tbody tr th:only-of-type {\n",
       "        vertical-align: middle;\n",
       "    }\n",
       "\n",
       "    .dataframe tbody tr th {\n",
       "        vertical-align: top;\n",
       "    }\n",
       "\n",
       "    .dataframe thead th {\n",
       "        text-align: right;\n",
       "    }\n",
       "</style>\n",
       "<table border=\"1\" class=\"dataframe\">\n",
       "  <thead>\n",
       "    <tr style=\"text-align: right;\">\n",
       "      <th></th>\n",
       "      <th>Sex</th>\n",
       "      <th>Length</th>\n",
       "      <th>Diameter</th>\n",
       "      <th>Height</th>\n",
       "      <th>Whole weight</th>\n",
       "      <th>Shucked weight</th>\n",
       "      <th>Vescera weight</th>\n",
       "      <th>Shell weight</th>\n",
       "      <th>Rings</th>\n",
       "      <th>Age</th>\n",
       "    </tr>\n",
       "  </thead>\n",
       "  <tbody>\n",
       "    <tr>\n",
       "      <th>0</th>\n",
       "      <td>3</td>\n",
       "      <td>0.455</td>\n",
       "      <td>0.365</td>\n",
       "      <td>0.095</td>\n",
       "      <td>0.5140</td>\n",
       "      <td>0.2245</td>\n",
       "      <td>0.1010</td>\n",
       "      <td>0.150</td>\n",
       "      <td>15</td>\n",
       "      <td>Old</td>\n",
       "    </tr>\n",
       "    <tr>\n",
       "      <th>1</th>\n",
       "      <td>3</td>\n",
       "      <td>0.350</td>\n",
       "      <td>0.265</td>\n",
       "      <td>0.090</td>\n",
       "      <td>0.2255</td>\n",
       "      <td>0.0995</td>\n",
       "      <td>0.0485</td>\n",
       "      <td>0.070</td>\n",
       "      <td>7</td>\n",
       "      <td>Adult</td>\n",
       "    </tr>\n",
       "    <tr>\n",
       "      <th>2</th>\n",
       "      <td>2</td>\n",
       "      <td>0.530</td>\n",
       "      <td>0.420</td>\n",
       "      <td>0.135</td>\n",
       "      <td>0.6770</td>\n",
       "      <td>0.2565</td>\n",
       "      <td>0.1415</td>\n",
       "      <td>0.210</td>\n",
       "      <td>9</td>\n",
       "      <td>Adult</td>\n",
       "    </tr>\n",
       "    <tr>\n",
       "      <th>3</th>\n",
       "      <td>3</td>\n",
       "      <td>0.440</td>\n",
       "      <td>0.365</td>\n",
       "      <td>0.125</td>\n",
       "      <td>0.5160</td>\n",
       "      <td>0.2155</td>\n",
       "      <td>0.1140</td>\n",
       "      <td>0.155</td>\n",
       "      <td>10</td>\n",
       "      <td>Adult</td>\n",
       "    </tr>\n",
       "    <tr>\n",
       "      <th>4</th>\n",
       "      <td>1</td>\n",
       "      <td>0.330</td>\n",
       "      <td>0.255</td>\n",
       "      <td>0.080</td>\n",
       "      <td>0.2050</td>\n",
       "      <td>0.0895</td>\n",
       "      <td>0.0395</td>\n",
       "      <td>0.055</td>\n",
       "      <td>7</td>\n",
       "      <td>Adult</td>\n",
       "    </tr>\n",
       "  </tbody>\n",
       "</table>\n",
       "</div>"
      ],
      "text/plain": [
       "   Sex  Length  Diameter  Height  Whole weight  Shucked weight  \\\n",
       "0    3   0.455     0.365   0.095        0.5140          0.2245   \n",
       "1    3   0.350     0.265   0.090        0.2255          0.0995   \n",
       "2    2   0.530     0.420   0.135        0.6770          0.2565   \n",
       "3    3   0.440     0.365   0.125        0.5160          0.2155   \n",
       "4    1   0.330     0.255   0.080        0.2050          0.0895   \n",
       "\n",
       "   Vescera weight  Shell weight  Rings    Age  \n",
       "0          0.1010         0.150     15    Old  \n",
       "1          0.0485         0.070      7  Adult  \n",
       "2          0.1415         0.210      9  Adult  \n",
       "3          0.1140         0.155     10  Adult  \n",
       "4          0.0395         0.055      7  Adult  "
      ]
     },
     "execution_count": 13,
     "metadata": {},
     "output_type": "execute_result"
    }
   ],
   "source": [
    "adf.head()"
   ]
  },
  {
   "cell_type": "markdown",
   "id": "61953561",
   "metadata": {},
   "source": [
    "___"
   ]
  },
  {
   "cell_type": "markdown",
   "id": "b95e7b0e",
   "metadata": {},
   "source": [
    "## 6. Randomize Dataset"
   ]
  },
  {
   "cell_type": "code",
   "execution_count": 14,
   "id": "8fc42047",
   "metadata": {},
   "outputs": [
    {
     "data": {
      "text/html": [
       "<div>\n",
       "<style scoped>\n",
       "    .dataframe tbody tr th:only-of-type {\n",
       "        vertical-align: middle;\n",
       "    }\n",
       "\n",
       "    .dataframe tbody tr th {\n",
       "        vertical-align: top;\n",
       "    }\n",
       "\n",
       "    .dataframe thead th {\n",
       "        text-align: right;\n",
       "    }\n",
       "</style>\n",
       "<table border=\"1\" class=\"dataframe\">\n",
       "  <thead>\n",
       "    <tr style=\"text-align: right;\">\n",
       "      <th></th>\n",
       "      <th>Sex</th>\n",
       "      <th>Length</th>\n",
       "      <th>Diameter</th>\n",
       "      <th>Height</th>\n",
       "      <th>Whole weight</th>\n",
       "      <th>Shucked weight</th>\n",
       "      <th>Vescera weight</th>\n",
       "      <th>Shell weight</th>\n",
       "      <th>Rings</th>\n",
       "      <th>Age</th>\n",
       "    </tr>\n",
       "  </thead>\n",
       "  <tbody>\n",
       "    <tr>\n",
       "      <th>0</th>\n",
       "      <td>3</td>\n",
       "      <td>0.415</td>\n",
       "      <td>0.345</td>\n",
       "      <td>0.135</td>\n",
       "      <td>0.3865</td>\n",
       "      <td>0.128</td>\n",
       "      <td>0.070</td>\n",
       "      <td>0.148</td>\n",
       "      <td>13</td>\n",
       "      <td>Adult</td>\n",
       "    </tr>\n",
       "    <tr>\n",
       "      <th>1</th>\n",
       "      <td>2</td>\n",
       "      <td>0.530</td>\n",
       "      <td>0.425</td>\n",
       "      <td>0.130</td>\n",
       "      <td>0.7585</td>\n",
       "      <td>0.325</td>\n",
       "      <td>0.197</td>\n",
       "      <td>0.205</td>\n",
       "      <td>8</td>\n",
       "      <td>Adult</td>\n",
       "    </tr>\n",
       "    <tr>\n",
       "      <th>2</th>\n",
       "      <td>2</td>\n",
       "      <td>0.470</td>\n",
       "      <td>0.365</td>\n",
       "      <td>0.120</td>\n",
       "      <td>0.5820</td>\n",
       "      <td>0.290</td>\n",
       "      <td>0.092</td>\n",
       "      <td>0.146</td>\n",
       "      <td>8</td>\n",
       "      <td>Adult</td>\n",
       "    </tr>\n",
       "    <tr>\n",
       "      <th>3</th>\n",
       "      <td>2</td>\n",
       "      <td>0.560</td>\n",
       "      <td>0.455</td>\n",
       "      <td>0.125</td>\n",
       "      <td>0.9430</td>\n",
       "      <td>0.344</td>\n",
       "      <td>0.129</td>\n",
       "      <td>0.375</td>\n",
       "      <td>21</td>\n",
       "      <td>Old</td>\n",
       "    </tr>\n",
       "    <tr>\n",
       "      <th>4</th>\n",
       "      <td>2</td>\n",
       "      <td>0.680</td>\n",
       "      <td>0.570</td>\n",
       "      <td>0.205</td>\n",
       "      <td>1.8420</td>\n",
       "      <td>0.625</td>\n",
       "      <td>0.408</td>\n",
       "      <td>0.650</td>\n",
       "      <td>20</td>\n",
       "      <td>Old</td>\n",
       "    </tr>\n",
       "  </tbody>\n",
       "</table>\n",
       "</div>"
      ],
      "text/plain": [
       "   Sex  Length  Diameter  Height  Whole weight  Shucked weight  \\\n",
       "0    3   0.415     0.345   0.135        0.3865           0.128   \n",
       "1    2   0.530     0.425   0.130        0.7585           0.325   \n",
       "2    2   0.470     0.365   0.120        0.5820           0.290   \n",
       "3    2   0.560     0.455   0.125        0.9430           0.344   \n",
       "4    2   0.680     0.570   0.205        1.8420           0.625   \n",
       "\n",
       "   Vescera weight  Shell weight  Rings    Age  \n",
       "0           0.070         0.148     13  Adult  \n",
       "1           0.197         0.205      8  Adult  \n",
       "2           0.092         0.146      8  Adult  \n",
       "3           0.129         0.375     21    Old  \n",
       "4           0.408         0.650     20    Old  "
      ]
     },
     "execution_count": 14,
     "metadata": {},
     "output_type": "execute_result"
    }
   ],
   "source": [
    "# Set reset_index drop to True to prevent creating a new cols \n",
    "# with old index entries\n",
    "adf = adf.sample(frac=1).reset_index(drop=True)\n",
    "adf.head()"
   ]
  },
  {
   "cell_type": "markdown",
   "id": "2be2bbf7",
   "metadata": {},
   "source": [
    "___"
   ]
  },
  {
   "cell_type": "markdown",
   "id": "30aa009b",
   "metadata": {},
   "source": [
    "## 7. Naives Bayes Classifier Function From Scratch"
   ]
  },
  {
   "cell_type": "code",
   "execution_count": 15,
   "id": "d5966832",
   "metadata": {},
   "outputs": [],
   "source": [
    "# Bayes Theorem form\n",
    "# P(y|X) = P(X|y) * P(y) / P(X)\n",
    "\n",
    "class NaiveBayesClassifier():\n",
    "    #--------------------------------------  \n",
    "    # Constructor\n",
    "    def fit(self, features, target):\n",
    "        self.classes = np.unique(target)\n",
    "        self.count = len(self.classes)\n",
    "        self.feature_nums = features.shape[1]\n",
    "        self.rows = features.shape[0]\n",
    "        self.calc_prior(features, target)\n",
    "        self.calc_statistics(features, target)\n",
    "    #--------------------------------------\n",
    "    # Calculate mean, variance for each column & convert to numpy array\n",
    "    def calc_statistics(self, features, target):\n",
    "        self.mean = features.groupby(target).apply(np.mean).to_numpy()\n",
    "        self.var = features.groupby(target).apply(np.var).to_numpy()  \n",
    "        return self.mean, self.var\n",
    "    #-------------------------------------- \n",
    "    # Density function of the normal distribution\n",
    "    def gaussian_density(self, class_idx, x):     \n",
    "        '''\n",
    "        Calculate probability from gaussian density func.\n",
    "        Assume probability of specific target & class is normally distributed \n",
    "        \n",
    "        Probability density function:\n",
    "        (1/√2pi*σ) * exp((-1/2)*((x-μ)^2)/(2*σ²)), \n",
    "        where μ=mean, σ²=variance, σ=sqrt of variance(SD)\n",
    "        '''\n",
    "        mean = self.mean[class_idx]\n",
    "        var = self.var[class_idx]\n",
    "        \n",
    "        numerator = np.exp( (-1/2) * ((x - mean)**2) / (2 * var) )\n",
    "        denominator = np.sqrt(2 * np.pi * var)\n",
    "        prob = numerator / denominator\n",
    "        \n",
    "        return prob\n",
    "    #-------------------------------------- \n",
    "    # Prior probability P(y)\n",
    "    # Calculate prior probabilities\n",
    "    def calc_prior(self, features, target):\n",
    "        self.prior = (features.groupby(target).apply(lambda x:len(x)) / self.rows).to_numpy()\n",
    "        return self.prior\n",
    "     #--------------------------------------  \n",
    "    # Calculate posterior probability for each class\n",
    "    def calc_posterior(self, x):\n",
    "        posteriors = []\n",
    "\n",
    "        for i in range(self.count): # From i to 3\n",
    "            # use log to make it more numerically stable\n",
    "            prior = np.log(self.prior[i]) \n",
    "            # use log to make it more numerically stable\n",
    "            conditional = np.sum(np.log(self.gaussian_density(i, x))) \n",
    "            posterior = prior + conditional\n",
    "            posteriors.append(posterior)\n",
    "            \n",
    "        # return class with highest posterior probability\n",
    "        return self.classes[np.argmax(posteriors)]\n",
    "    #--------------------------------------\n",
    "    # Calculate prediction\n",
    "    def predict(self, features):\n",
    "        preds = [self.calc_posterior(f) for f in features.to_numpy()]\n",
    "        return preds\n",
    "    #-------------------------------------- \n",
    "    # Calculate accuracy after getting prediction\n",
    "    def accuracy(self, y_test, y_pred):\n",
    "        accuracy = np.sum(y_test == y_pred) / len(y_test)\n",
    "        return accuracy\n",
    "    #-------------------------------------- \n",
    "    # Display data \n",
    "    def visualize(self, y_true, y_pred, target):\n",
    "        \n",
    "        fig, ax = plt.subplots(1, 2, figsize=(13,5))\n",
    "        fig.suptitle('True vs Predicted Comparison\\n\\n', fontsize=20)\n",
    "        \n",
    "        tr = pd.DataFrame(data=y_true, columns=[target])\n",
    "        pr = pd.DataFrame(data=y_pred, columns=[target])\n",
    "        \n",
    "        plot1=sns.countplot(x=target, data=tr, ax=ax[0], palette='coolwarm',alpha=0.7)\n",
    "        plot2=sns.countplot(x=target, data=pr, ax=ax[1], palette='coolwarm',alpha=0.7)\n",
    "        \n",
    "        ax[0].tick_params(labelsize=12)\n",
    "        ax[1].tick_params(labelsize=12)\n",
    "        \n",
    "        ax[0].set_title(\"True values\", fontsize=18)\n",
    "        ax[1].set_title(\"Predicted values\", fontsize=18)\n",
    "        \n",
    "        ax[0].set_ylim([0,1100])\n",
    "        ax[1].set_ylim([0,1100])\n",
    "        \n",
    "        plt.show()\n",
    "    #-------------------------------------- "
   ]
  },
  {
   "cell_type": "markdown",
   "id": "273f859a",
   "metadata": {},
   "source": [
    "___"
   ]
  },
  {
   "cell_type": "markdown",
   "id": "581ccfa2",
   "metadata": {},
   "source": [
    "## 8. Split Data Into 70% Training & 30% Test"
   ]
  },
  {
   "cell_type": "code",
   "execution_count": 16,
   "id": "0a0c89d1",
   "metadata": {},
   "outputs": [
    {
     "name": "stdout",
     "output_type": "stream",
     "text": [
      "X_train y_train:  (2924, 9) (2924,)\n",
      "X_test y_test:  (1253, 9) (1253,)\n"
     ]
    }
   ],
   "source": [
    "# Set features and target\n",
    "# X stores everything else except 'Age', Y stores 'Age'\n",
    "X, y = adf.iloc[:, :-1], adf.iloc[:, -1]\n",
    "\n",
    "# Randomize data\n",
    "arr_rand = np.random.rand(X.shape[0]) # Random float\n",
    "split = arr_rand < np.percentile(arr_rand, 70) # Returns bool\n",
    "\n",
    "# Declare x & y training and testing set\n",
    "X_train = X[split]\n",
    "y_train = y[split]\n",
    "\n",
    "X_test =  X[~split]\n",
    "y_test = y[~split]\n",
    "\n",
    "# Display int in train & test after split\n",
    "print(\"X_train y_train: \",X_train.shape, y_train.shape)\n",
    "print(\"X_test y_test: \", X_test.shape, y_test.shape)"
   ]
  },
  {
   "cell_type": "code",
   "execution_count": 17,
   "id": "cf4e0bb0",
   "metadata": {},
   "outputs": [
    {
     "name": "stderr",
     "output_type": "stream",
     "text": [
      "/Users/tanshufei/opt/anaconda3/envs/py36-test/lib/python3.9/site-packages/numpy/core/fromnumeric.py:3438: FutureWarning: In a future version, DataFrame.mean(axis=None) will return a scalar mean over the entire DataFrame. To retain the old behavior, use 'frame.mean(axis=0)' or just 'frame.mean()'\n",
      "  return mean(axis=axis, dtype=dtype, out=out, **kwargs)\n"
     ]
    }
   ],
   "source": [
    "# Build the Naives Bayes classifier object\n",
    "x = NaiveBayesClassifier()\n",
    "\n",
    "# Use naive bayes model to fit training data\n",
    "x.fit(X_train, y_train)\n",
    "\n",
    "# Generate predicted classes for test data\n",
    "# Stores 'Young', 'Adult', 'Old' from test data\n",
    "predictions = x.predict(X_test)"
   ]
  },
  {
   "cell_type": "markdown",
   "id": "e4b05eef",
   "metadata": {},
   "source": [
    "___"
   ]
  },
  {
   "cell_type": "markdown",
   "id": "1fde7e4f",
   "metadata": {},
   "source": [
    "## 9. Create a Dummy Classifier for Comparison (Optional)\n",
    "- DummyClassifier makes predictions that ignore the input features.\n",
    "- Makes predictions without trying to find patterns in the data.\n",
    "- Looks at what label is most frequent in the training dataset and makes predictions based on that label."
   ]
  },
  {
   "cell_type": "code",
   "execution_count": 18,
   "id": "dcdedb9e",
   "metadata": {},
   "outputs": [],
   "source": [
    "# Import library\n",
    "from sklearn.dummy import DummyClassifier\n",
    "\n",
    "# Build a 'dummy' classifier for comparison\n",
    "# Establish random_state for reproducibility\n",
    "dummy = DummyClassifier(random_state=1) \n",
    "#dummy = DummyClassifier(strategy='stratified') \n",
    "\n",
    "# Fit with X_train y_train:  (2924, 9) (2924,)\n",
    "dumb = dummy.fit(X_train, y_train)\n",
    "\n",
    "# Perform classification on X_test\n",
    "dumb_pred = dumb.predict(X_test)\n",
    "\n",
    "# Return probability estimates for the X_test\n",
    "dumb_pred_prob = dumb.predict_proba(X_test)"
   ]
  },
  {
   "cell_type": "markdown",
   "id": "e070db6b",
   "metadata": {},
   "source": [
    "## 10. Naives Bayes Classifier VS Dummy Classifier Accuracy"
   ]
  },
  {
   "cell_type": "code",
   "execution_count": 19,
   "id": "e9e54376",
   "metadata": {},
   "outputs": [
    {
     "name": "stdout",
     "output_type": "stream",
     "text": [
      "Accuracy (Naives Bayes Classifier) :  0.8411811652035116\n",
      "Accuracy %:  84.12 %\n",
      "\n",
      "Accuracy (Dummy Classifier):  0.839584996009577\n",
      "Accuracy %:  83.96 %\n"
     ]
    }
   ],
   "source": [
    "# Compare the results from y_test and X_test\n",
    "# Returns accuracy in percentage\n",
    "print(\"Accuracy (Naives Bayes Classifier) : \", x.accuracy(y_test, predictions))\n",
    "print(\"Accuracy %: \", \"%.2f\" % ((x.accuracy(y_test, predictions))  * 100), \"%\")\n",
    "print()\n",
    "print(\"Accuracy (Dummy Classifier): \",dumb.score(dumb_pred, y_test))\n",
    "print(\"Accuracy %: \", \"%.2f\" % ((dumb.score(dumb_pred, y_test))  * 100), \"%\")"
   ]
  },
  {
   "cell_type": "markdown",
   "id": "2a2cbc41",
   "metadata": {},
   "source": [
    "### Side-By-Side Comparison"
   ]
  },
  {
   "cell_type": "code",
   "execution_count": 20,
   "id": "dab2ec20",
   "metadata": {},
   "outputs": [
    {
     "data": {
      "image/png": "[encoded data removed]",
      "text/plain": [
       "<Figure size 936x360 with 2 Axes>"
      ]
     },
     "metadata": {},
     "output_type": "display_data"
    }
   ],
   "source": [
    "x.visualize(y_test, predictions, 'Age')"
   ]
  },
  {
   "cell_type": "markdown",
   "id": "08b6bae6",
   "metadata": {},
   "source": [
    "- The adult for true values is almost 150 more than the predicted values.\n",
    "- The Old age for the predicted values is also almost approximately 35 more for the predicted values.\n",
    "- The Young value varies the highest as the true values is approximately 75 and 175 for the Young in the predicted values."
   ]
  },
  {
   "cell_type": "markdown",
   "id": "55efd747",
   "metadata": {},
   "source": [
    "### Naive Bayes Break-Down for Test Values"
   ]
  },
  {
   "cell_type": "code",
   "execution_count": 21,
   "id": "9406f576",
   "metadata": {},
   "outputs": [
    {
     "name": "stdout",
     "output_type": "stream",
     "text": [
      "Naive Bayes y_test Class Counts:\n",
      "Adult    1052\n",
      "Old       145\n",
      "Young      56\n",
      "Name: Age, dtype: int64\n",
      "\n",
      "Naive Bayes y_test Class Proportions:\n",
      "Adult    0.839585\n",
      "Old      0.115722\n",
      "Young    0.044693\n",
      "Name: Age, dtype: float64\n"
     ]
    }
   ],
   "source": [
    "# Break down of y_test's 1253 data after split\n",
    "print(\"Naive Bayes y_test Class Counts:\")\n",
    "print(y_test.value_counts(), end=\"\\n\\n\")\n",
    "\n",
    "print(\"Naive Bayes y_test Class Proportions:\")\n",
    "print(y_test.value_counts()/len(y_test))"
   ]
  },
  {
   "cell_type": "markdown",
   "id": "1ce51c01",
   "metadata": {},
   "source": [
    "### Naive Bayes Break-Down for Train Values"
   ]
  },
  {
   "cell_type": "code",
   "execution_count": 22,
   "id": "7b7b7545",
   "metadata": {},
   "outputs": [
    {
     "name": "stdout",
     "output_type": "stream",
     "text": [
      "Naive Bayes y_Train Class Counts:\n",
      "Adult    2446\n",
      "Old       345\n",
      "Young     133\n",
      "Name: Age, dtype: int64\n",
      "\n",
      "Naive Bayes y_Train Class Proportions:\n",
      "Adult    0.836525\n",
      "Old      0.117989\n",
      "Young    0.045486\n",
      "Name: Age, dtype: float64\n",
      "\n"
     ]
    }
   ],
   "source": [
    "# Break down of y_train's 2924 data after split\n",
    "print(\"Naive Bayes y_Train Class Counts:\")\n",
    "print(y_train.value_counts(), end=\"\\n\\n\")\n",
    "\n",
    "print(\"Naive Bayes y_Train Class Proportions:\")\n",
    "print(y_train.value_counts(normalize=True), end=\"\\n\\n\")"
   ]
  },
  {
   "cell_type": "markdown",
   "id": "a3b47c4b",
   "metadata": {},
   "source": [
    "___"
   ]
  },
  {
   "cell_type": "markdown",
   "id": "a47143e8",
   "metadata": {},
   "source": [
    "## 11. Naives Bayes Classifier VS Dummy Classifier Confustion Matrix"
   ]
  },
  {
   "cell_type": "markdown",
   "id": "e67f2878",
   "metadata": {},
   "source": [
    "### Dummy Classifier"
   ]
  },
  {
   "cell_type": "code",
   "execution_count": 23,
   "id": "d4aece69",
   "metadata": {},
   "outputs": [],
   "source": [
    "# Import libraries\n",
    "import sklearn\n",
    "from sklearn.metrics import *"
   ]
  },
  {
   "cell_type": "code",
   "execution_count": 24,
   "id": "c54f07f2",
   "metadata": {},
   "outputs": [
    {
     "data": {
      "image/png": "[encoded data removed]",
      "text/plain": [
       "<Figure size 576x504 with 2 Axes>"
      ]
     },
     "metadata": {},
     "output_type": "display_data"
    }
   ],
   "source": [
    "cm_dummy = confusion_matrix(y_test, dumb_pred)\n",
    "cm_dummy_df = pd.DataFrame(cm_dummy)\n",
    "\n",
    "fig,ax = plt.subplots(figsize=(8,7))\n",
    "sns.heatmap(cm_dummy_df.T, annot=True, annot_kws={'size':15}, cmap='Reds',\n",
    "           vmin=0, vmax=1100, fmt='.0f', linewidths=1,linecolor='white',cbar=True,\n",
    "           xticklabels=['Male','Infant','Female'],yticklabels=['Male','Infant','Female'])\n",
    "plt.ylabel('Predicted', fontsize=13)\n",
    "plt.xlabel('Actual', fontsize=13)\n",
    "\n",
    "ax.set_xticklabels(['Male','Infant','Female'], fontsize=11)\n",
    "ax.set_yticklabels(['Male','Infant','Female'], fontsize=11)\n",
    "\n",
    "plt.title('Confusion Matrix For Dummy Classifier\\n\\nCounts', fontsize=15)\n",
    "plt.show()"
   ]
  },
  {
   "cell_type": "markdown",
   "id": "f079632d",
   "metadata": {},
   "source": [
    "- Large bulk of data is coming from Adult, mostly Males to be true-positive.\n",
    "- Infants and Female is incorrectly identified"
   ]
  },
  {
   "cell_type": "markdown",
   "id": "767a54f7",
   "metadata": {},
   "source": [
    "### Number of data in each category"
   ]
  },
  {
   "cell_type": "code",
   "execution_count": 25,
   "id": "8a7b5c8c",
   "metadata": {},
   "outputs": [
    {
     "data": {
      "text/plain": [
       "Adult    0.836525\n",
       "Old      0.117989\n",
       "Young    0.045486\n",
       "Name: Age, dtype: float64"
      ]
     },
     "execution_count": 25,
     "metadata": {},
     "output_type": "execute_result"
    }
   ],
   "source": [
    "y_train.value_counts(normalize=True)"
   ]
  },
  {
   "cell_type": "markdown",
   "id": "ead3ef01",
   "metadata": {},
   "source": [
    "- dummy classifier seems to be classifying the bulk of our data as Males.\n",
    "- We have a lot more Adults as compared to Young and Old.\n",
    "- So the dummy classifier is predicting more Adults, Males in general to Young & Old."
   ]
  },
  {
   "cell_type": "markdown",
   "id": "8e2b4184",
   "metadata": {},
   "source": [
    "### Naive Bayes Classifier"
   ]
  },
  {
   "cell_type": "code",
   "execution_count": 26,
   "id": "5d0d5e38",
   "metadata": {},
   "outputs": [],
   "source": [
    "import sklearn\n",
    "from sklearn.metrics import *"
   ]
  },
  {
   "cell_type": "code",
   "execution_count": 27,
   "id": "86e10fbd",
   "metadata": {},
   "outputs": [
    {
     "data": {
      "image/png": "[encoded data removed]",
      "text/plain": [
       "<Figure size 576x504 with 2 Axes>"
      ]
     },
     "metadata": {},
     "output_type": "display_data"
    }
   ],
   "source": [
    "cm_naive = confusion_matrix(y_test, predictions)\n",
    "cm_naive_df = pd.DataFrame(cm_naive)\n",
    "\n",
    "fig,ax = plt.subplots(figsize=(8,7))\n",
    "sns.heatmap(cm_naive_df.T, annot=True, annot_kws={'size':15}, cmap='Blues',\n",
    "           vmin=0, vmax=1100, fmt='.0f', linewidths=1,linecolor='white',cbar=True,\n",
    "           xticklabels=['Male','Infant','Female'],yticklabels=['Male','Infant','Female'])\n",
    "plt.ylabel('Predicted', fontsize=13)\n",
    "plt.xlabel('Actual', fontsize=13)\n",
    "\n",
    "ax.set_xticklabels(['Male','Infant','Female'], fontsize=11)\n",
    "ax.set_yticklabels(['Male','Infant','Female'], fontsize=11)\n",
    "\n",
    "plt.title('Confusion Matrix For Naive Bayes Classifier\\n\\nCounts', fontsize=15)\n",
    "plt.show()"
   ]
  },
  {
   "cell_type": "markdown",
   "id": "67a2a9e7",
   "metadata": {},
   "source": [
    "- The confusion matrix model correctly predicted the Age of Males 848 times. (True-Negative) \n",
    "- There're most Adults than Infant and Females hence inbalance in figures from dataset\n",
    "- Correctly predicted Ages of Infant 123 times.\n",
    "- Correctly predicted Ages of Female 62 times. (True-Positive) \n",
    "- 220 data has been incorrectly identified."
   ]
  },
  {
   "cell_type": "markdown",
   "id": "b0d0ff77",
   "metadata": {},
   "source": [
    "### Comparison\n",
    "- The dummy classifier performed better with 1031 data in the True-Positive, as compared to 848 in the Naive Bayes Classifier.\n",
    "- But Naive Bayes Classifier correctly predicted 123 Infants and 62 Females as compared to 0 on both using the Dummy Classifier."
   ]
  },
  {
   "cell_type": "markdown",
   "id": "547b6c57",
   "metadata": {},
   "source": [
    "___"
   ]
  }
 ],
 "metadata": {
  "kernelspec": {
   "display_name": "py36-test",
   "language": "python",
   "name": "py36-test"
  },
  "language_info": {
   "codemirror_mode": {
    "name": "ipython",
    "version": 3
   },
   "file_extension": ".py",
   "mimetype": "text/x-python",
   "name": "python",
   "nbconvert_exporter": "python",
   "pygments_lexer": "ipython3",
   "version": "3.9.7"
  }
 },
 "nbformat": 4,
 "nbformat_minor": 5
}
